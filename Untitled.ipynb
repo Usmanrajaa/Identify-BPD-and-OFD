{
 "cells": [
  {
   "cell_type": "code",
   "execution_count": 8,
   "id": "519357df-ac6b-48b9-9be9-f76cdbe01602",
   "metadata": {},
   "outputs": [],
   "source": [
    "import pandas as pd\n",
    "import numpy as np\n",
    "import matplotlib.pyplot as plt"
   ]
  },
  {
   "cell_type": "code",
   "execution_count": 10,
   "id": "48053668-e9a4-4b73-9d42-984bd9374329",
   "metadata": {},
   "outputs": [],
   "source": [
    "df=pd.read_csv('dataset/role_challenge_dataset_ground_truth.csv')"
   ]
  },
  {
   "cell_type": "code",
   "execution_count": 13,
   "id": "e96acb3d-f615-4b87-9825-b3aec1a312c0",
   "metadata": {},
   "outputs": [
    {
     "name": "stdout",
     "output_type": "stream",
     "text": [
      "<class 'pandas.core.frame.DataFrame'>\n",
      "RangeIndex: 622 entries, 0 to 621\n",
      "Data columns (total 9 columns):\n",
      " #   Column      Non-Null Count  Dtype \n",
      "---  ------      --------------  ----- \n",
      " 0   image_name  622 non-null    object\n",
      " 1   ofd_1_x     622 non-null    int64 \n",
      " 2   ofd_1_y     622 non-null    int64 \n",
      " 3   ofd_2_x     622 non-null    int64 \n",
      " 4   ofd_2_y     622 non-null    int64 \n",
      " 5   bpd_1_x     622 non-null    int64 \n",
      " 6   bpd_1_y     622 non-null    int64 \n",
      " 7   bpd_2_x     622 non-null    int64 \n",
      " 8   bpd_2_y     622 non-null    int64 \n",
      "dtypes: int64(8), object(1)\n",
      "memory usage: 43.9+ KB\n"
     ]
    }
   ],
   "source": [
    "df.info()"
   ]
  },
  {
   "cell_type": "code",
   "execution_count": null,
   "id": "f4b96450-b094-417c-8a45-25eebb2da1c4",
   "metadata": {},
   "outputs": [],
   "source": []
  }
 ],
 "metadata": {
  "kernelspec": {
   "display_name": "Python 3 (ipykernel)",
   "language": "python",
   "name": "python3"
  },
  "language_info": {
   "codemirror_mode": {
    "name": "ipython",
    "version": 3
   },
   "file_extension": ".py",
   "mimetype": "text/x-python",
   "name": "python",
   "nbconvert_exporter": "python",
   "pygments_lexer": "ipython3",
   "version": "3.11.5"
  }
 },
 "nbformat": 4,
 "nbformat_minor": 5
}
